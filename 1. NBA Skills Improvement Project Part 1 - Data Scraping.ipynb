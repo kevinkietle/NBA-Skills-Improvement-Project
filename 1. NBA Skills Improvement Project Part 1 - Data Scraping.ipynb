{
 "cells": [
  {
   "cell_type": "markdown",
   "id": "598a13fb",
   "metadata": {},
   "source": [
    "## NBA Skills Improvement Project Part 1 - Data Scraping"
   ]
  },
  {
   "cell_type": "markdown",
   "id": "0586d9a8",
   "metadata": {},
   "source": [
    "### Imports"
   ]
  },
  {
   "cell_type": "code",
   "execution_count": 1,
   "id": "382ce999",
   "metadata": {},
   "outputs": [],
   "source": [
    "import pandas as pd\n",
    "import numpy as np\n",
    "import matplotlib.pyplot as plt\n",
    "import seaborn as sns\n",
    "%matplotlib inline"
   ]
  },
  {
   "cell_type": "code",
   "execution_count": 2,
   "id": "58d81452",
   "metadata": {},
   "outputs": [],
   "source": [
    "import requests\n",
    "import time\n",
    "import json"
   ]
  },
  {
   "cell_type": "code",
   "execution_count": 3,
   "id": "b6238c4e",
   "metadata": {},
   "outputs": [],
   "source": [
    "from bs4 import BeautifulSoup"
   ]
  },
  {
   "cell_type": "code",
   "execution_count": 4,
   "id": "4018a61b",
   "metadata": {},
   "outputs": [],
   "source": [
    "pd.set_option('display.max_columns', None)"
   ]
  },
  {
   "cell_type": "code",
   "execution_count": 4,
   "id": "2d6df7bf",
   "metadata": {},
   "outputs": [],
   "source": [
    "years = list(range(2014,2024))"
   ]
  },
  {
   "cell_type": "markdown",
   "id": "46984ea9",
   "metadata": {},
   "source": [
    "### Scraping from Basketball Reference"
   ]
  },
  {
   "cell_type": "code",
   "execution_count": 5,
   "id": "7e4922e9",
   "metadata": {},
   "outputs": [],
   "source": [
    "shooting_url = 'https://www.basketball-reference.com/leagues/NBA_{}_shooting.html'\n",
    "defense_url = 'https://www.basketball-reference.com/leagues/NBA_{}_advanced.html'"
   ]
  },
  {
   "cell_type": "code",
   "execution_count": 6,
   "id": "db64cdf8",
   "metadata": {},
   "outputs": [],
   "source": [
    "for year in years:\n",
    "    url = shooting_url.format(year)\n",
    "    data = requests.get(url)\n",
    "    \n",
    "    with open(\"C:/Users/kevin/Jupyter Notebook Projects/shooting stats/{}.html\".format(year), \"w+\", encoding='utf-8') as f:\n",
    "        f.write(data.text)\n",
    "        \n",
    "for year in years:\n",
    "    url = defense_url.format(year)\n",
    "    data = requests.get(url)\n",
    "    \n",
    "    with open(\"C:/Users/kevin/Jupyter Notebook Projects/defensive stats/{}.html\".format(year), \"w+\", encoding='utf-8') as f:\n",
    "        f.write(data.text)"
   ]
  },
  {
   "cell_type": "markdown",
   "id": "cd9d1341",
   "metadata": {},
   "source": [
    "Testing with just 2023 to see how the data looks."
   ]
  },
  {
   "cell_type": "code",
   "execution_count": null,
   "id": "268c18de",
   "metadata": {},
   "outputs": [],
   "source": [
    "with open(\"C:/Users/kevin/Jupyter Notebook Projects/shooting stats/2023.html\", encoding='utf-8') as f:\n",
    "    page = f.read()\n",
    "    \n",
    "soup = BeautifulSoup(page, \"html.parser\")\n",
    "\n",
    "shootingstats2023 = soup.find(id=\"all_shooting_stats\")\n",
    "\n",
    "shooting_2023 = pd.read_html(str(shootingstats2023))[0]\n",
    "shooting_2023[\"Year\"] = year\n",
    "\n",
    "shooting_2023"
   ]
  },
  {
   "cell_type": "code",
   "execution_count": null,
   "id": "710a2fc9",
   "metadata": {},
   "outputs": [],
   "source": [
    "shooting_2023.columns = shooting_2023.columns.droplevel(0)\n",
    "shooting_2023"
   ]
  },
  {
   "cell_type": "code",
   "execution_count": 33,
   "id": "64dac3bc",
   "metadata": {},
   "outputs": [
    {
     "data": {
      "text/plain": [
       "Index(['Rk', 'Player', 'Pos', 'Age', 'Tm', 'G', 'MP', 'FG%', 'Dist.',\n",
       "       'Unnamed: 9_level_1', '2P', '0-3', '3-10', '10-16', '16-3P', '3P',\n",
       "       'Unnamed: 16_level_1', '2P', '0-3', '3-10', '10-16', '16-3P', '3P',\n",
       "       'Unnamed: 23_level_1', '2P', '3P', 'Unnamed: 26_level_1', '%FGA', '#',\n",
       "       'Unnamed: 29_level_1', '%3PA', '3P%', 'Unnamed: 32_level_1', 'Att.',\n",
       "       '#', ''],\n",
       "      dtype='object')"
      ]
     },
     "execution_count": 33,
     "metadata": {},
     "output_type": "execute_result"
    }
   ],
   "source": [
    "shooting_2023.columns"
   ]
  },
  {
   "cell_type": "code",
   "execution_count": null,
   "id": "21a3c1f2",
   "metadata": {},
   "outputs": [],
   "source": [
    "drop_cols = ['Rk','Unnamed: 9_level_1', 'Unnamed: 16_level_1', 'Unnamed: 23_level_1', 'Unnamed: 26_level_1', 'Unnamed: 29_level_1', 'Unnamed: 32_level_1']\n",
    "shooting_2023 = shooting_2023.drop(drop_cols, axis = 1)\n",
    "shooting_2023"
   ]
  },
  {
   "cell_type": "code",
   "execution_count": 35,
   "id": "abffb64e",
   "metadata": {},
   "outputs": [
    {
     "data": {
      "text/plain": [
       "Index(['Player', 'Pos', 'Age', 'Tm', 'G', 'MP', 'FG%', 'Dist.', '2P', '0-3',\n",
       "       '3-10', '10-16', '16-3P', '3P', '2P', '0-3', '3-10', '10-16', '16-3P',\n",
       "       '3P', '2P', '3P', '%FGA', '#', '%3PA', '3P%', 'Att.', '#', ''],\n",
       "      dtype='object')"
      ]
     },
     "execution_count": 35,
     "metadata": {},
     "output_type": "execute_result"
    }
   ],
   "source": [
    "shooting_2023.columns"
   ]
  },
  {
   "cell_type": "code",
   "execution_count": null,
   "id": "b07a222b",
   "metadata": {},
   "outputs": [],
   "source": [
    "shooting_cols = ['Player', 'Pos', 'Age', 'Tm', 'G', 'MP', 'FG%', 'Dist.', '2P_FGA%',\n",
    "       '0-3_FGA%', '3-10_FGA%', '10-16_FGA%', '16-3P_FGA%', '3P_FGA%', '2P_FG%', '0-3_FG%', '3-10_FG%', '10-16_FG%',\n",
    "       '16-3P_FG%', '3P_FG%', '2P_FGast', '3P_FGast', 'Dunks_%FGA', 'Dunks_#', 'Corner_%3PA', 'Corner_3P%', \n",
    "                 'Heaves_Att.', 'Heaves_#', 'Year']\n",
    "\n",
    "shooting_2023.columns = shooting_cols\n",
    "shooting_2023"
   ]
  },
  {
   "cell_type": "code",
   "execution_count": null,
   "id": "eb2c7fb4",
   "metadata": {},
   "outputs": [],
   "source": [
    "with open(\"C:/Users/kevin/Jupyter Notebook Projects/defensive stats/2023.html\", encoding='utf-8') as f:\n",
    "    page = f.read()\n",
    "    \n",
    "soup = BeautifulSoup(page, \"html.parser\")\n",
    "\n",
    "defensivestats2023 = soup.find(id=\"all_advanced_stats\")\n",
    "\n",
    "defensive_2023 = pd.read_html(str(defensivestats2023))[0]\n",
    "defensive_2023[\"Year\"] = year\n",
    "\n",
    "defensive_2023"
   ]
  },
  {
   "cell_type": "code",
   "execution_count": 39,
   "id": "bd7a9767",
   "metadata": {},
   "outputs": [
    {
     "data": {
      "text/plain": [
       "Index(['Rk', 'Player', 'Pos', 'Age', 'Tm', 'G', 'MP', 'PER', 'TS%', '3PAr',\n",
       "       'FTr', 'ORB%', 'DRB%', 'TRB%', 'AST%', 'STL%', 'BLK%', 'TOV%', 'USG%',\n",
       "       'Unnamed: 19', 'OWS', 'DWS', 'WS', 'WS/48', 'Unnamed: 24', 'OBPM',\n",
       "       'DBPM', 'BPM', 'VORP', 'Year'],\n",
       "      dtype='object')"
      ]
     },
     "execution_count": 39,
     "metadata": {},
     "output_type": "execute_result"
    }
   ],
   "source": [
    "defensive_2023.columns"
   ]
  },
  {
   "cell_type": "code",
   "execution_count": null,
   "id": "a086302f",
   "metadata": {},
   "outputs": [],
   "source": [
    "drop_cols = ['Rk', 'Unnamed: 19', 'Unnamed: 24']\n",
    "defensive_2023 = defensive_2023.drop(drop_cols, axis = 1)\n",
    "defensive_2023"
   ]
  },
  {
   "cell_type": "markdown",
   "id": "35aaad5d",
   "metadata": {},
   "source": [
    "Now that I have worked out the logic for getting the basic dataframe for both the shooting and defensive metrics, I can integrate the logic into a loop that adds info for each year."
   ]
  },
  {
   "cell_type": "markdown",
   "id": "77b1f3c4",
   "metadata": {},
   "source": [
    "### Loop for Shooting Stats"
   ]
  },
  {
   "cell_type": "code",
   "execution_count": 37,
   "id": "16e932ff",
   "metadata": {},
   "outputs": [],
   "source": [
    "dfs = []\n",
    "for year in years:\n",
    "    with open(\"C:/Users/kevin/Jupyter Notebook Projects/shooting stats/{}.html\".format(year), encoding='utf-8') as f:\n",
    "        page = f.read()\n",
    "    soup = BeautifulSoup(page, \"html.parser\")\n",
    "    shootingstats = soup.find(id=\"all_shooting_stats\")\n",
    "    shooting = pd.read_html(str(shootingstats))[0]\n",
    "    shooting[\"Year\"] = year\n",
    "    \n",
    "    shooting.columns = shooting.columns.droplevel(0)\n",
    "    \n",
    "    drop_cols = ['Rk','Unnamed: 9_level_1', 'Unnamed: 16_level_1', 'Unnamed: 23_level_1', 'Unnamed: 26_level_1', 'Unnamed: 29_level_1', 'Unnamed: 32_level_1']\n",
    "    shooting = shooting.drop(drop_cols, axis = 1)\n",
    "    \n",
    "    shooting_cols = ['Player', 'Pos', 'Age', 'Tm', 'G', 'MP', 'FG%', 'Dist.', '2P_FGA%',\n",
    "       '0-3_FGA%', '3-10_FGA%', '10-16_FGA%', '16-3P_FGA%', '3P_FGA%', '2P_FG%', '0-3_FG%', '3-10_FG%', '10-16_FG%',\n",
    "       '16-3P_FG%', '3P_FG%', '2P_FGast', '3P_FGast', 'Dunks_%FGA', 'Dunks_#', 'Corner_%3PA', 'Corner_3P%', \n",
    "                 'Heaves_Att.', 'Heaves_#', 'Year']\n",
    "\n",
    "    shooting.columns = shooting_cols\n",
    "    \n",
    "    dfs.append(shooting)"
   ]
  },
  {
   "cell_type": "code",
   "execution_count": 43,
   "id": "8193b8bd",
   "metadata": {},
   "outputs": [],
   "source": [
    "shooting_df = pd.concat(dfs)"
   ]
  },
  {
   "cell_type": "code",
   "execution_count": 45,
   "id": "12de3032",
   "metadata": {},
   "outputs": [],
   "source": [
    "shooting_df.to_csv('C:/Users/kevin/Downloads/shooting stats 2014-2023.csv', index=False)"
   ]
  },
  {
   "cell_type": "code",
   "execution_count": 6,
   "id": "774bed48",
   "metadata": {},
   "outputs": [],
   "source": [
    "shooting_df = pd.read_csv(\"C:/Users/kevin/Downloads/shooting stats 2014-2023.csv\")"
   ]
  },
  {
   "cell_type": "markdown",
   "id": "d560265b",
   "metadata": {},
   "source": [
    "### Loop for Defensive Data"
   ]
  },
  {
   "cell_type": "code",
   "execution_count": 9,
   "id": "df6e218c",
   "metadata": {},
   "outputs": [],
   "source": [
    "dfs2 = []\n",
    "for year in years:\n",
    "    with open(\"C:/Users/kevin/Jupyter Notebook Projects/defensive stats/{}.html\".format(year), encoding='utf-8') as f:\n",
    "        page = f.read()\n",
    "    soup = BeautifulSoup(page, \"html.parser\")\n",
    "    defensivestats = soup.find(id=\"all_advanced_stats\")\n",
    "    defensive = pd.read_html(str(defensivestats))[0]\n",
    "    defensive[\"Year\"] = year\n",
    "    \n",
    "    drop_cols = ['Rk', 'Unnamed: 19', 'Unnamed: 24']\n",
    "    defensive = defensive.drop(drop_cols, axis = 1)\n",
    "    \n",
    "    dfs2.append(defensive)"
   ]
  },
  {
   "cell_type": "code",
   "execution_count": 10,
   "id": "733f7484",
   "metadata": {},
   "outputs": [],
   "source": [
    "defensive_df = pd.concat(dfs2)"
   ]
  },
  {
   "cell_type": "code",
   "execution_count": 13,
   "id": "6d5ce35d",
   "metadata": {},
   "outputs": [],
   "source": [
    "defensive_df.to_csv('C:/Users/kevin/Downloads/defensive stats 2014-23.csv', index=False)"
   ]
  },
  {
   "cell_type": "code",
   "execution_count": 7,
   "id": "a1cb7866",
   "metadata": {},
   "outputs": [],
   "source": [
    "defensive_df = pd.read_csv(\"C:/Users/kevin/Downloads/defensive stats 2014-2023.csv\")"
   ]
  },
  {
   "cell_type": "markdown",
   "id": "6da6b254",
   "metadata": {},
   "source": [
    "### Scraping Measurement Data from NBA API"
   ]
  },
  {
   "cell_type": "code",
   "execution_count": 8,
   "id": "c7244cea",
   "metadata": {},
   "outputs": [],
   "source": [
    "import nba_api"
   ]
  },
  {
   "cell_type": "code",
   "execution_count": 9,
   "id": "2f0b20d7",
   "metadata": {},
   "outputs": [],
   "source": [
    "custom_headers = {\n",
    "    'Host': 'stats.nba.com',\n",
    "    'Connection': 'keep-alive',\n",
    "    'Cache-Control': 'max-age=0',\n",
    "    'Upgrade-Insecure-Requests': '1',\n",
    "    'User-Agent': 'Mozilla/5.0 (Macintosh; Intel Mac OS X 10_14_3) AppleWebKit/537.36 (KHTML, like Gecko) Chrome/73.0.3683.86 Safari/537.36',\n",
    "    'Accept': 'text/html,application/xhtml+xml,application/xml;q=0.9,image/webp,image/apng,*/*;q=0.8,application/signed-exchange;v=b3',\n",
    "    'Accept-Encoding': 'gzip, deflate, br',\n",
    "    'Accept-Language': 'en-US,en;q=0.9',\n",
    "}"
   ]
  },
  {
   "cell_type": "markdown",
   "id": "8ee70a20",
   "metadata": {},
   "source": [
    "Below is the player dictionary I have previously saved from the NBA API that will serve as keys to access other endpoints."
   ]
  },
  {
   "cell_type": "code",
   "execution_count": 10,
   "id": "fb11508e",
   "metadata": {},
   "outputs": [],
   "source": [
    "player_dict = pd.read_csv(\"C:/Users/kevin/Downloads/player dictionary.csv\")"
   ]
  },
  {
   "cell_type": "code",
   "execution_count": 11,
   "id": "8d8dbc03",
   "metadata": {},
   "outputs": [],
   "source": [
    "from nba_api.stats.library.parameters import SeasonAll\n",
    "from nba_api.stats.library.parameters import SeasonType"
   ]
  },
  {
   "cell_type": "code",
   "execution_count": 12,
   "id": "c901df6f",
   "metadata": {},
   "outputs": [],
   "source": [
    "from nba_api.stats.endpoints import commonplayerinfo"
   ]
  },
  {
   "cell_type": "markdown",
   "id": "510e49a7",
   "metadata": {},
   "source": [
    "Finding Scottie Barnes's ID from the player dictionary as an example to pull from the endpoint."
   ]
  },
  {
   "cell_type": "code",
   "execution_count": 14,
   "id": "256579c7",
   "metadata": {},
   "outputs": [
    {
     "data": {
      "text/html": [
       "<div>\n",
       "<style scoped>\n",
       "    .dataframe tbody tr th:only-of-type {\n",
       "        vertical-align: middle;\n",
       "    }\n",
       "\n",
       "    .dataframe tbody tr th {\n",
       "        vertical-align: top;\n",
       "    }\n",
       "\n",
       "    .dataframe thead th {\n",
       "        text-align: right;\n",
       "    }\n",
       "</style>\n",
       "<table border=\"1\" class=\"dataframe\">\n",
       "  <thead>\n",
       "    <tr style=\"text-align: right;\">\n",
       "      <th></th>\n",
       "      <th>id</th>\n",
       "      <th>full_name</th>\n",
       "      <th>first_name</th>\n",
       "      <th>last_name</th>\n",
       "      <th>is_active</th>\n",
       "    </tr>\n",
       "  </thead>\n",
       "  <tbody>\n",
       "    <tr>\n",
       "      <th>224</th>\n",
       "      <td>1630567</td>\n",
       "      <td>Scottie Barnes</td>\n",
       "      <td>Scottie</td>\n",
       "      <td>Barnes</td>\n",
       "      <td>True</td>\n",
       "    </tr>\n",
       "  </tbody>\n",
       "</table>\n",
       "</div>"
      ],
      "text/plain": [
       "          id       full_name first_name last_name  is_active\n",
       "224  1630567  Scottie Barnes    Scottie    Barnes       True"
      ]
     },
     "execution_count": 14,
     "metadata": {},
     "output_type": "execute_result"
    }
   ],
   "source": [
    "player_dict[player_dict['full_name'] == 'Scottie Barnes']"
   ]
  },
  {
   "cell_type": "code",
   "execution_count": 20,
   "id": "c7e09160",
   "metadata": {},
   "outputs": [
    {
     "data": {
      "text/html": [
       "<div>\n",
       "<style scoped>\n",
       "    .dataframe tbody tr th:only-of-type {\n",
       "        vertical-align: middle;\n",
       "    }\n",
       "\n",
       "    .dataframe tbody tr th {\n",
       "        vertical-align: top;\n",
       "    }\n",
       "\n",
       "    .dataframe thead th {\n",
       "        text-align: right;\n",
       "    }\n",
       "</style>\n",
       "<table border=\"1\" class=\"dataframe\">\n",
       "  <thead>\n",
       "    <tr style=\"text-align: right;\">\n",
       "      <th></th>\n",
       "      <th>PERSON_ID</th>\n",
       "      <th>FIRST_NAME</th>\n",
       "      <th>LAST_NAME</th>\n",
       "      <th>DISPLAY_FIRST_LAST</th>\n",
       "      <th>DISPLAY_LAST_COMMA_FIRST</th>\n",
       "      <th>DISPLAY_FI_LAST</th>\n",
       "      <th>PLAYER_SLUG</th>\n",
       "      <th>BIRTHDATE</th>\n",
       "      <th>SCHOOL</th>\n",
       "      <th>COUNTRY</th>\n",
       "      <th>LAST_AFFILIATION</th>\n",
       "      <th>HEIGHT</th>\n",
       "      <th>WEIGHT</th>\n",
       "      <th>SEASON_EXP</th>\n",
       "      <th>JERSEY</th>\n",
       "      <th>POSITION</th>\n",
       "      <th>ROSTERSTATUS</th>\n",
       "      <th>GAMES_PLAYED_CURRENT_SEASON_FLAG</th>\n",
       "      <th>TEAM_ID</th>\n",
       "      <th>TEAM_NAME</th>\n",
       "      <th>TEAM_ABBREVIATION</th>\n",
       "      <th>TEAM_CODE</th>\n",
       "      <th>TEAM_CITY</th>\n",
       "      <th>PLAYERCODE</th>\n",
       "      <th>FROM_YEAR</th>\n",
       "      <th>TO_YEAR</th>\n",
       "      <th>DLEAGUE_FLAG</th>\n",
       "      <th>NBA_FLAG</th>\n",
       "      <th>GAMES_PLAYED_FLAG</th>\n",
       "      <th>DRAFT_YEAR</th>\n",
       "      <th>DRAFT_ROUND</th>\n",
       "      <th>DRAFT_NUMBER</th>\n",
       "      <th>GREATEST_75_FLAG</th>\n",
       "    </tr>\n",
       "  </thead>\n",
       "  <tbody>\n",
       "    <tr>\n",
       "      <th>0</th>\n",
       "      <td>1630567</td>\n",
       "      <td>Scottie</td>\n",
       "      <td>Barnes</td>\n",
       "      <td>Scottie Barnes</td>\n",
       "      <td>Barnes, Scottie</td>\n",
       "      <td>S. Barnes</td>\n",
       "      <td>scottie-barnes</td>\n",
       "      <td>2001-08-01T00:00:00</td>\n",
       "      <td>Florida State</td>\n",
       "      <td>USA</td>\n",
       "      <td>Florida State/USA</td>\n",
       "      <td>6-7</td>\n",
       "      <td>237</td>\n",
       "      <td>2</td>\n",
       "      <td>4</td>\n",
       "      <td>Forward-Guard</td>\n",
       "      <td>Active</td>\n",
       "      <td>Y</td>\n",
       "      <td>1610612761</td>\n",
       "      <td>Raptors</td>\n",
       "      <td>TOR</td>\n",
       "      <td>raptors</td>\n",
       "      <td>Toronto</td>\n",
       "      <td>scottie_barnes</td>\n",
       "      <td>2021</td>\n",
       "      <td>2023</td>\n",
       "      <td>N</td>\n",
       "      <td>Y</td>\n",
       "      <td>Y</td>\n",
       "      <td>2021</td>\n",
       "      <td>1</td>\n",
       "      <td>4</td>\n",
       "      <td>N</td>\n",
       "    </tr>\n",
       "  </tbody>\n",
       "</table>\n",
       "</div>"
      ],
      "text/plain": [
       "   PERSON_ID FIRST_NAME LAST_NAME DISPLAY_FIRST_LAST DISPLAY_LAST_COMMA_FIRST  \\\n",
       "0    1630567    Scottie    Barnes     Scottie Barnes          Barnes, Scottie   \n",
       "\n",
       "  DISPLAY_FI_LAST     PLAYER_SLUG            BIRTHDATE         SCHOOL COUNTRY  \\\n",
       "0       S. Barnes  scottie-barnes  2001-08-01T00:00:00  Florida State     USA   \n",
       "\n",
       "    LAST_AFFILIATION HEIGHT WEIGHT  SEASON_EXP JERSEY       POSITION  \\\n",
       "0  Florida State/USA    6-7    237           2      4  Forward-Guard   \n",
       "\n",
       "  ROSTERSTATUS GAMES_PLAYED_CURRENT_SEASON_FLAG     TEAM_ID TEAM_NAME  \\\n",
       "0       Active                                Y  1610612761   Raptors   \n",
       "\n",
       "  TEAM_ABBREVIATION TEAM_CODE TEAM_CITY      PLAYERCODE  FROM_YEAR  TO_YEAR  \\\n",
       "0               TOR   raptors   Toronto  scottie_barnes       2021     2023   \n",
       "\n",
       "  DLEAGUE_FLAG NBA_FLAG GAMES_PLAYED_FLAG DRAFT_YEAR DRAFT_ROUND DRAFT_NUMBER  \\\n",
       "0            N        Y                 Y       2021           1            4   \n",
       "\n",
       "  GREATEST_75_FLAG  \n",
       "0                N  "
      ]
     },
     "execution_count": 20,
     "metadata": {},
     "output_type": "execute_result"
    }
   ],
   "source": [
    "commonplayerinfo.CommonPlayerInfo(player_id = '1630567').get_data_frames()[0]"
   ]
  },
  {
   "cell_type": "markdown",
   "id": "a6906975",
   "metadata": {},
   "source": [
    "I wanted height and weight as the main pre-draft indicators and this has that."
   ]
  },
  {
   "cell_type": "code",
   "execution_count": 13,
   "id": "ae6ebb63",
   "metadata": {},
   "outputs": [],
   "source": [
    "merged_df = pd.merge(shooting_df, defensive_df, on=['Player', 'Year'], how='outer')"
   ]
  },
  {
   "cell_type": "code",
   "execution_count": 14,
   "id": "cbedd210",
   "metadata": {},
   "outputs": [],
   "source": [
    "merged_list = merged_df['Player'].unique()"
   ]
  },
  {
   "cell_type": "code",
   "execution_count": null,
   "id": "fcb93a67",
   "metadata": {},
   "outputs": [],
   "source": [
    "player_bios = pd.DataFrame()\n",
    "\n",
    "for i, name in enumerate(merged_list, start=1):\n",
    "    # Check if 'full_name' column exists in player_dict\n",
    "    if 'full_name' in player_dict.columns:\n",
    "        # Get player_id for the current name if 'full_name' column exists\n",
    "        matching_rows = player_dict.loc[player_dict['full_name'] == name, 'id']\n",
    "\n",
    "        # Check if any matching rows were found\n",
    "        if not matching_rows.empty:\n",
    "            id = matching_rows.values[0]\n",
    "\n",
    "            # Make the API call\n",
    "            result_df = commonplayerinfo.CommonPlayerInfo(player_id=id).get_data_frames()[0]\n",
    "\n",
    "            # Append result_df to the merged_data DataFrame\n",
    "            player_bios = player_bios.append(result_df, ignore_index=True)\n",
    "\n",
    "            # Print the player number\n",
    "            print(f\"Processed player {i}/{len(merged_list)}: {name}\")\n",
    "            \n",
    "            # Introduce a random time lag\n",
    "            lag = np.random.uniform(low=0.3, high=3)\n",
    "            print(f'...waiting {round(lag, 1)} seconds')\n",
    "            time.sleep(lag)\n",
    "        else:\n",
    "            print(f\"No matching rows found for {name} in player_dict.\")\n",
    "    else:\n",
    "        print(\"Column 'full_name' not found in player_dict.\")"
   ]
  },
  {
   "cell_type": "code",
   "execution_count": 19,
   "id": "b96201bb",
   "metadata": {},
   "outputs": [],
   "source": [
    "player_bios.to_csv('C:/Users/kevin/Downloads/player bios 2014-2023.csv', index=False)"
   ]
  },
  {
   "cell_type": "code",
   "execution_count": 20,
   "id": "e8f1bf4e",
   "metadata": {},
   "outputs": [],
   "source": [
    "player_bios = pd.read_csv('C:/Users/kevin/Downloads/player bios 2014-2023.csv')"
   ]
  }
 ],
 "metadata": {
  "kernelspec": {
   "display_name": "Python 3 (ipykernel)",
   "language": "python",
   "name": "python3"
  },
  "language_info": {
   "codemirror_mode": {
    "name": "ipython",
    "version": 3
   },
   "file_extension": ".py",
   "mimetype": "text/x-python",
   "name": "python",
   "nbconvert_exporter": "python",
   "pygments_lexer": "ipython3",
   "version": "3.8.16"
  }
 },
 "nbformat": 4,
 "nbformat_minor": 5
}
